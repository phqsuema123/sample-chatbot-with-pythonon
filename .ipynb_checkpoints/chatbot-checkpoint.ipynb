{
 "cells": [
  {
   "cell_type": "code",
   "execution_count": 1,
   "id": "35ae5319-ca93-43c1-afe8-fe94ed13a1a8",
   "metadata": {},
   "outputs": [],
   "source": [
    "import random\n",
    "import json\n",
    "import pickle\n",
    "import numpy as np\n",
    "import nltk\n",
    "from nltk.stem import WordNetLemmatizer\n",
    "from tensorflow.keras.models import load_model"
   ]
  },
  {
   "cell_type": "code",
   "execution_count": 11,
   "id": "7e2b14c4-0633-44df-8850-4a67182f5288",
   "metadata": {},
   "outputs": [],
   "source": [
    "lemmatizer=WordNetLemmatizer()\n",
    "with open(\"intents2.json\", \"r\", encoding=\"utf-8\") as f:\n",
    "    intents = json.load(f)\n"
   ]
  },
  {
   "cell_type": "code",
   "execution_count": 12,
   "id": "4ec839a7-ae09-4dcc-ac1f-26958978f379",
   "metadata": {},
   "outputs": [],
   "source": [
    "words=pickle.load(open(\"words3.pkl\",\"rb\"))\n",
    "classes=pickle.load(open(\"classes3.pkl\",\"rb\"))\n",
    "model=load_model(\"chatbot_model3.h5\")"
   ]
  },
  {
   "cell_type": "code",
   "execution_count": 13,
   "id": "fd5bf991-2a78-456b-8a84-5eda8289f6fe",
   "metadata": {},
   "outputs": [],
   "source": [
    "def clean_up_sentence(sentence):\n",
    "    sentence_words=nltk.word_tokenize(sentence)\n",
    "    sentence_words=[lemmatizer.lemmatize(word) for word in sentence_words]\n",
    "    return sentence_words"
   ]
  },
  {
   "cell_type": "code",
   "execution_count": 15,
   "id": "94a189f2-1827-4629-84ce-ebc7fac9f8a5",
   "metadata": {},
   "outputs": [],
   "source": [
    "def bag_of_words(sentence):\n",
    "    sentence_words=clean_up_sentence(sentence)\n",
    "    bag=[0]* len(words)\n",
    "    for w in sentence_words:\n",
    "        for i, word in enumerate(words):\n",
    "            if word==w:\n",
    "                bag[i]=1\n",
    "    return np.array(bag)"
   ]
  },
  {
   "cell_type": "code",
   "execution_count": 16,
   "id": "34546d7e-f1e7-4485-8156-f82779d936d4",
   "metadata": {},
   "outputs": [],
   "source": [
    "def predict_class(sentence):\n",
    "    bow=bag_of_words(sentence)\n",
    "    res=model.predict(np.array([bow]))[0]\n",
    "    ERROR_THESHOLD=0.25\n",
    "    results=[[i, r]for i, r in enumerate(res)if r>ERROR_THESHOLD]\n",
    "    \n",
    "    results.sort(key=lambda x:x[1], reverse=True)\n",
    "    return_list=[]\n",
    "    for r in results:\n",
    "        return_list.append({'intent':classes[r[0]],\"probability\":str(r[1])})\n",
    "    return return_list"
   ]
  },
  {
   "cell_type": "code",
   "execution_count": 19,
   "id": "f1df837e-0c2f-4b1e-b123-5299a87b51fc",
   "metadata": {},
   "outputs": [],
   "source": [
    "def get_response(intents_list, intents_json):\n",
    "    tag=intents_list[0]['intent']\n",
    "    list_of_intents=intents_json['intents']\n",
    "    for i in list_of_intents:\n",
    "        if i['tag'] == tag:\n",
    "            result = random.choice(i['responses'])\n",
    "            break\n",
    "    return result"
   ]
  },
  {
   "cell_type": "code",
   "execution_count": null,
   "id": "6e0b389f-561c-4449-810e-f34bbc9f8aba",
   "metadata": {},
   "outputs": [
    {
     "name": "stdout",
     "output_type": "stream",
     "text": [
      "Go! Bot is running\n"
     ]
    },
    {
     "name": "stdin",
     "output_type": "stream",
     "text": [
      " yo\n"
     ]
    },
    {
     "name": "stdout",
     "output_type": "stream",
     "text": [
      "1/1 [==============================] - 0s 22ms/step\n",
      "Good to see you again\n"
     ]
    },
    {
     "name": "stdin",
     "output_type": "stream",
     "text": [
      " thank\n"
     ]
    },
    {
     "name": "stdout",
     "output_type": "stream",
     "text": [
      "1/1 [==============================] - 0s 13ms/step\n",
      "Hi there, how can I help?\n"
     ]
    }
   ],
   "source": [
    "print(\"Go! Bot is running\")\n",
    "while True:\n",
    "    message=input(\"\")\n",
    "    ints=predict_class(message)\n",
    "    res= get_response(ints,intents)\n",
    "    print(res)"
   ]
  },
  {
   "cell_type": "code",
   "execution_count": null,
   "id": "2fedf054-2fa0-47b1-bc62-27a4d6ace3c1",
   "metadata": {},
   "outputs": [],
   "source": []
  }
 ],
 "metadata": {
  "kernelspec": {
   "display_name": "Python 3 (ipykernel)",
   "language": "python",
   "name": "python3"
  },
  "language_info": {
   "codemirror_mode": {
    "name": "ipython",
    "version": 3
   },
   "file_extension": ".py",
   "mimetype": "text/x-python",
   "name": "python",
   "nbconvert_exporter": "python",
   "pygments_lexer": "ipython3",
   "version": "3.9.12"
  }
 },
 "nbformat": 4,
 "nbformat_minor": 5
}
